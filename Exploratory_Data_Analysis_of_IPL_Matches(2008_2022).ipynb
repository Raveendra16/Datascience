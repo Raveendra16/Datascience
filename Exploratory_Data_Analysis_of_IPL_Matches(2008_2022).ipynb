{
  "cells": [
    {
      "cell_type": "code",
      "execution_count": null,
      "metadata": {
        "id": "8EI1ftGuLkHa"
      },
      "outputs": [],
      "source": [
        "import numpy as np\n",
        "import pandas as pd\n",
        "import matplotlib\n",
        "import matplotlib.pyplot as plt\n",
        "import seaborn as sns\n",
        "%matplotlib inline\n",
        "\n",
        "sns.set_style('darkgrid')\n",
        "matplotlib.rcParams['font.size'] = 14\n",
        "matplotlib.rcParams['figure.figsize'] = (9, 5)\n",
        "matplotlib.rcParams['figure.facecolor'] = '#00000000'\n",
        "\n",
        "import warnings\n",
        "warnings.filterwarnings(\"ignore\")"
      ]
    },
    {
      "cell_type": "markdown",
      "metadata": {
        "id": "KEmZINtukLRK"
      },
      "source": [
        "Data Preparation and Cleaning"
      ]
    },
    {
      "cell_type": "code",
      "execution_count": null,
      "metadata": {
        "id": "ptjv4OI8ajOo"
      },
      "outputs": [],
      "source": []
    },
    {
      "cell_type": "code",
      "execution_count": null,
      "metadata": {
        "id": "RFaZBkSKMK6I"
      },
      "outputs": [],
      "source": [
        "IPL_matches_df = pd.read_csv('IPL_Matches_2008_2022.csv')"
      ]
    },
    {
      "cell_type": "code",
      "execution_count": null,
      "metadata": {
        "colab": {
          "base_uri": "https://localhost:8080/",
          "height": 521
        },
        "id": "hS2i3mxvMOHx",
        "outputId": "80e59662-18b5-4d58-d012-a5d90f83f20e"
      },
      "outputs": [],
      "source": [
        "IPL_matches_df.head()"
      ]
    },
    {
      "cell_type": "code",
      "execution_count": null,
      "metadata": {
        "colab": {
          "base_uri": "https://localhost:8080/",
          "height": 556
        },
        "id": "E-VGGFkTMOKS",
        "outputId": "b2d69c49-0c07-4b4e-d76f-2419874cdcb4"
      },
      "outputs": [],
      "source": [
        "IPL_matches_df.tail()"
      ]
    },
    {
      "cell_type": "code",
      "execution_count": null,
      "metadata": {
        "id": "4p9RHlhpMOMo"
      },
      "outputs": [],
      "source": [
        "pd.options.display.max_rows = 999"
      ]
    },
    {
      "cell_type": "code",
      "execution_count": null,
      "metadata": {
        "colab": {
          "base_uri": "https://localhost:8080/"
        },
        "id": "GhCNM44BMOPN",
        "outputId": "1375c61d-f37a-453e-973f-ab32a53e8861"
      },
      "outputs": [],
      "source": [
        "IPL_matches_df.shape"
      ]
    },
    {
      "cell_type": "code",
      "execution_count": null,
      "metadata": {
        "colab": {
          "base_uri": "https://localhost:8080/"
        },
        "id": "4QeKmJPSMORS",
        "outputId": "679e3ee7-a4b5-4e08-cd10-582344e3906d"
      },
      "outputs": [],
      "source": [
        "IPL_matches_df.info()"
      ]
    },
    {
      "cell_type": "code",
      "execution_count": null,
      "metadata": {
        "colab": {
          "base_uri": "https://localhost:8080/",
          "height": 300
        },
        "id": "IlviNHZJMOTc",
        "outputId": "79864b7d-5029-401a-8dee-af892d4970b7"
      },
      "outputs": [],
      "source": [
        "IPL_matches_df.describe()"
      ]
    },
    {
      "cell_type": "code",
      "execution_count": null,
      "metadata": {
        "colab": {
          "base_uri": "https://localhost:8080/"
        },
        "id": "K5N-qGPNMOV3",
        "outputId": "2e9e4bf2-13ae-4913-c49c-3766822546a6"
      },
      "outputs": [],
      "source": [
        "IPL_matches_df.nunique()"
      ]
    },
    {
      "cell_type": "code",
      "execution_count": null,
      "metadata": {
        "colab": {
          "base_uri": "https://localhost:8080/"
        },
        "id": "KCXuIr9pMOX3",
        "outputId": "de807fcd-0c19-40ab-a7dc-f51500cfb999"
      },
      "outputs": [],
      "source": [
        "IPL_matches_df.isnull().values.any()"
      ]
    },
    {
      "cell_type": "code",
      "execution_count": null,
      "metadata": {
        "colab": {
          "base_uri": "https://localhost:8080/"
        },
        "id": "hqxA9RfMMOac",
        "outputId": "183bd2c4-b64e-4fba-d6fa-e2e9fb2eb36b"
      },
      "outputs": [],
      "source": [
        "IPL_matches_df.isnull().sum()"
      ]
    },
    {
      "cell_type": "code",
      "execution_count": null,
      "metadata": {
        "colab": {
          "base_uri": "https://localhost:8080/"
        },
        "id": "fOYyBsCVMOdB",
        "outputId": "0e7a48c7-ce81-4a1b-bb0b-0db4b69c9542"
      },
      "outputs": [],
      "source": [
        "IPL_matches_df.isnull().sum().sum()"
      ]
    },
    {
      "cell_type": "code",
      "execution_count": null,
      "metadata": {
        "colab": {
          "base_uri": "https://localhost:8080/"
        },
        "id": "leXvqCrCMOh0",
        "outputId": "dfcda413-cc9d-49b4-b48b-6d2206e69d1e"
      },
      "outputs": [],
      "source": [
        "IPL_matches_df.Date.dtype"
      ]
    },
    {
      "cell_type": "code",
      "execution_count": null,
      "metadata": {
        "colab": {
          "base_uri": "https://localhost:8080/"
        },
        "id": "XdDa_3_pMOm0",
        "outputId": "9ae1d693-62fc-4d65-dc43-baec3e03ab4c"
      },
      "outputs": [],
      "source": [
        "IPL_matches_df['Date']=pd.to_datetime(IPL_matches_df.Date)\n",
        "IPL_matches_df.Date.head(10)"
      ]
    },
    {
      "cell_type": "code",
      "execution_count": null,
      "metadata": {
        "id": "cdIIavWgMOpt"
      },
      "outputs": [],
      "source": [
        "IPL_matches_df.loc[(IPL_matches_df['Venue']== 'Dubai International Cricket Stadium'),['City']] = 'Dubai'\n",
        "IPL_matches_df.loc[(IPL_matches_df['Venue'] == 'Sharjah Cricket Stadium'),['City']] = 'Sharjah'\n",
        "IPL_matches_df['SuperOver'].fillna('NoResult',inplace=True)\n",
        "IPL_matches_df['WinningTeam'].fillna('NoResult',inplace=True)\n",
        "IPL_matches_df['Player_of_Match'].fillna('NoResult',inplace= True)\n",
        "IPL_matches_df['Margin'].fillna('NoMargin',inplace = True)"
      ]
    },
    {
      "cell_type": "code",
      "execution_count": null,
      "metadata": {
        "id": "h37rdtKiMOsa"
      },
      "outputs": [],
      "source": [
        "IPL_matches_df=IPL_matches_df.drop(['method'],axis =1 )"
      ]
    },
    {
      "cell_type": "code",
      "execution_count": null,
      "metadata": {
        "colab": {
          "base_uri": "https://localhost:8080/"
        },
        "id": "Z6PKhu7YMOvQ",
        "outputId": "2ccdbe7a-685b-4844-bee4-079acf689ac3"
      },
      "outputs": [],
      "source": [
        "IPL_matches_df.isnull().any()"
      ]
    },
    {
      "cell_type": "code",
      "execution_count": null,
      "metadata": {
        "colab": {
          "base_uri": "https://localhost:8080/"
        },
        "id": "2-lGq5uJMOxN",
        "outputId": "1f18ac05-5005-4bad-c27e-fdc17c5997f2"
      },
      "outputs": [],
      "source": [
        "IPL_matches_df.duplicated().any()"
      ]
    },
    {
      "cell_type": "code",
      "execution_count": null,
      "metadata": {
        "id": "fA90MUi2MOz_"
      },
      "outputs": [],
      "source": [
        "IPL_matches_df['Team1']=IPL_matches_df['Team1'].str.replace('Kings XI Punjab','Punjab Kings')\n",
        "IPL_matches_df['Team2']=IPL_matches_df['Team2'].str.replace('Kings XI Punjab','Punjab Kings')\n",
        "IPL_matches_df['WinningTeam']=IPL_matches_df['WinningTeam'].str.replace('Kings XI Punjab','Punjab Kings')\n",
        "\n",
        "IPL_matches_df['Team1']=IPL_matches_df['Team1'].str.replace('Delhi Daredevils','Delhi Capitals')\n",
        "IPL_matches_df['Team2']=IPL_matches_df['Team2'].str.replace('Delhi Daredevils','Delhi Capitals')\n",
        "IPL_matches_df['WinningTeam']=IPL_matches_df['WinningTeam'].str.replace('Delhi Daredevils','Delhi Capitals')\n",
        "\n",
        "IPL_matches_df['Team1']=IPL_matches_df['Team1'].str.replace('Rising Pune Supergiants','Rising Pune Supergiant')\n",
        "IPL_matches_df['Team2']=IPL_matches_df['Team2'].str.replace('Rising Pune Supergiants','Rising Pune Supergiant')\n",
        "IPL_matches_df['WinningTeam']=IPL_matches_df['WinningTeam'].str.replace('Rising Pune Supergiants','Rising Pune Supergiant')"
      ]
    },
    {
      "cell_type": "code",
      "execution_count": null,
      "metadata": {
        "id": "F91w5UZaU9Lq"
      },
      "outputs": [],
      "source": []
    },
    {
      "cell_type": "code",
      "execution_count": null,
      "metadata": {
        "colab": {
          "base_uri": "https://localhost:8080/",
          "height": 521
        },
        "id": "yj3wcjZOMO2r",
        "outputId": "5432e8b9-c48d-4cc9-da75-2dc9493392d0"
      },
      "outputs": [],
      "source": [
        "IPL_matches_df.head()"
      ]
    },
    {
      "cell_type": "code",
      "execution_count": null,
      "metadata": {
        "colab": {
          "base_uri": "https://localhost:8080/",
          "height": 417
        },
        "id": "nox36UvmMO-P",
        "outputId": "f09c1ed2-a6e5-4fc9-c4f1-af23232fab6c"
      },
      "outputs": [],
      "source": [
        "IPL_ball_by_ball_df = pd.read_csv('E:\\python_files\\IPL_Ball_by_Ball_2008_2022.csv')\n",
        "IPL_ball_by_ball_df.head()\n",
        "\n"
      ]
    },
    {
      "cell_type": "code",
      "execution_count": null,
      "metadata": {
        "id": "tkJsUe8uXUmK"
      },
      "outputs": [],
      "source": []
    },
    {
      "cell_type": "code",
      "execution_count": null,
      "metadata": {
        "colab": {
          "base_uri": "https://localhost:8080/"
        },
        "id": "uC0srzyXMPA-",
        "outputId": "d1f1ee0f-e2d5-4113-8975-8d449120e238"
      },
      "outputs": [],
      "source": [
        "IPL_ball_by_ball_df.shape"
      ]
    },
    {
      "cell_type": "code",
      "execution_count": null,
      "metadata": {
        "colab": {
          "base_uri": "https://localhost:8080/"
        },
        "id": "0WMsCih0MPD3",
        "outputId": "fc0b9107-9469-4996-8295-2af36d7856dc"
      },
      "outputs": [],
      "source": [
        "IPL_ball_by_ball_df.info()"
      ]
    },
    {
      "cell_type": "code",
      "execution_count": null,
      "metadata": {
        "colab": {
          "base_uri": "https://localhost:8080/"
        },
        "id": "FNF7tI14MPGL",
        "outputId": "5bfb142a-be61-4ad2-b3a3-2041127f9206"
      },
      "outputs": [],
      "source": [
        "IPL_ball_by_ball_df.isnull().sum()\n"
      ]
    },
    {
      "cell_type": "code",
      "execution_count": null,
      "metadata": {
        "id": "a6V2zXWDZrSM"
      },
      "outputs": [],
      "source": [
        "IPL_ball_by_ball_df['extra_type'].fillna('N',inplace = True)\n",
        "IPL_ball_by_ball_df['player_out'].fillna('N',inplace = True)\n",
        "IPL_ball_by_ball_df['kind'].fillna('N',inplace = True)\n",
        "IPL_ball_by_ball_df['fielders_involved'].fillna('N',inplace = True)"
      ]
    },
    {
      "cell_type": "code",
      "execution_count": null,
      "metadata": {
        "colab": {
          "base_uri": "https://localhost:8080/"
        },
        "id": "Cz4sg6rdZuUa",
        "outputId": "3f7c9418-8c38-4df0-e510-624010b867b3"
      },
      "outputs": [],
      "source": [
        "IPL_ball_by_ball_df.isnull().sum()"
      ]
    },
    {
      "cell_type": "code",
      "execution_count": null,
      "metadata": {
        "id": "uF5iEJNrZ2ap"
      },
      "outputs": [],
      "source": [
        "\n"
      ]
    },
    {
      "cell_type": "code",
      "execution_count": null,
      "metadata": {
        "colab": {
          "base_uri": "https://localhost:8080/"
        },
        "id": "yqnTczRAMPI5",
        "outputId": "eb954712-d209-47cd-b92c-b1b3f3f6af04"
      },
      "outputs": [],
      "source": [
        "IPL_ball_by_ball_df.isnull().values.any()"
      ]
    },
    {
      "cell_type": "code",
      "execution_count": null,
      "metadata": {
        "colab": {
          "base_uri": "https://localhost:8080/"
        },
        "id": "MQRoCzhEMPLO",
        "outputId": "581f8123-706f-4f3c-9129-ea52523c3f64"
      },
      "outputs": [],
      "source": [
        "IPL_matches_df['Team1'].unique()\n",
        "IPL_matches_df['Team1'].unique().reshape(15, 1)\n"
      ]
    },
    {
      "cell_type": "code",
      "execution_count": null,
      "metadata": {
        "colab": {
          "base_uri": "https://localhost:8080/",
          "height": 519
        },
        "id": "1ScKXMINMPOW",
        "outputId": "df4ce77b-ed7c-4638-ca14-839dfe898da0"
      },
      "outputs": [],
      "source": [
        "match_df = pd.concat([IPL_matches_df['Team1'], IPL_matches_df['Team2']]).value_counts().reset_index()\n",
        "match_df = match_df.rename(columns={'index': 'Teams', 0: 'Total_Matches'})\n",
        "match_df\n"
      ]
    },
    {
      "cell_type": "code",
      "execution_count": null,
      "metadata": {
        "id": "E05kC2TfMPQ7"
      },
      "outputs": [],
      "source": [
        "def get_color(name, number):\n",
        "    pal = list(sns.color_palette(palette=name, n_colors=number).as_hex())\n",
        "    return pal"
      ]
    },
    {
      "cell_type": "code",
      "execution_count": null,
      "metadata": {
        "id": "HNd2MZfrMPTy"
      },
      "outputs": [],
      "source": [
        "pal_vi = get_color('viridis_r', len(match_df))"
      ]
    },
    {
      "cell_type": "code",
      "execution_count": null,
      "metadata": {
        "id": "Ov9T_zp-dLP6"
      },
      "outputs": [],
      "source": []
    },
    {
      "cell_type": "code",
      "execution_count": null,
      "metadata": {
        "id": "-K3irT-NMPWI"
      },
      "outputs": [],
      "source": [
        "!pip install plotly --upgrade --quiet\n",
        "import plotly.express as px\n",
        "\n",
        "\n"
      ]
    },
    {
      "cell_type": "code",
      "execution_count": null,
      "metadata": {
        "colab": {
          "base_uri": "https://localhost:8080/",
          "height": 517
        },
        "id": "tk2bk-0QdnxG",
        "outputId": "074d8291-2415-475a-af78-3c6d69b1ffa4"
      },
      "outputs": [],
      "source": [
        "import plotly.express as px\n",
        "\n",
        "fig = px.bar(match_df, x='Teams', y='count',color='Teams',color_discrete_sequence=pal_vi)\n",
        "\n",
        "fig.update_traces(texttemplate='%{text:.3s}', textposition='outside')\n",
        "\n",
        "fig.update_layout(plot_bgcolor='white', paper_bgcolor='white',\n",
        "                  width=1100, height=500,\n",
        "                  margin=dict(t=15, l=15, r=15, b=15))\n",
        "\n",
        "fig.show()\n"
      ]
    },
    {
      "cell_type": "markdown",
      "metadata": {
        "id": "R_WgHi9YcQ8f"
      },
      "source": [
        "winning ratio analysis"
      ]
    },
    {
      "cell_type": "code",
      "execution_count": null,
      "metadata": {
        "colab": {
          "base_uri": "https://localhost:8080/",
          "height": 519
        },
        "id": "o_cFfh8eMPZb",
        "outputId": "5cd5484e-8e15-433b-883b-bbce88562a6c"
      },
      "outputs": [],
      "source": [
        "win_df = match_df.copy()  # Create a copy of match_df to avoid modifying the original DataFrame\n",
        "\n",
        "# Count the total wins for each team\n",
        "win_counts = IPL_matches_df['WinningTeam'].value_counts()\n",
        "\n",
        "# Add the total wins to the win_df DataFrame\n",
        "win_df['total_wins'] = win_counts.reindex(win_df['Teams']).fillna(0).values\n",
        "\n",
        "# Calculate the winning ratio\n",
        "win_df['winning_ratio'] = (win_df['total_wins'] / win_df['count']) * 100\n",
        "\n",
        "# Display the DataFrame\n",
        "win_df\n"
      ]
    },
    {
      "cell_type": "code",
      "execution_count": null,
      "metadata": {
        "colab": {
          "base_uri": "https://localhost:8080/",
          "height": 698
        },
        "id": "I1E2uecyMPcf",
        "outputId": "c8212c40-32bb-4e89-a230-7f76a6e8e67b"
      },
      "outputs": [],
      "source": [
        "plt.figure(figsize=(15,6.5))\n",
        "sns.set_style('darkgrid')\n",
        "wi = sns.barplot(data=win_df, x='winning_ratio', y='Teams', ci=False, palette='viridis_r')\n",
        "wi.set_xticklabels(win_df['winning_ratio'], rotation=55, fontdict={'fontsize':10})\n",
        "plt.show()"
      ]
    },
    {
      "cell_type": "code",
      "execution_count": null,
      "metadata": {
        "colab": {
          "base_uri": "https://localhost:8080/",
          "height": 363
        },
        "id": "jlYIPc80ghxl",
        "outputId": "38e83ce7-b40e-497b-dc10-15db7dcad6e0"
      },
      "outputs": [],
      "source": [
        "#Top 10 Batters that gets Player of Match Title\n",
        "player_of_macth_df = IPL_matches_df['Player_of_Match'].value_counts().reset_index()\n",
        "# Renaming the columns of the DataFrame\n",
        "player_of_macth_df.columns = ['Player_of_Match', 'Count']\n",
        "# Selecting the top 10 players\n",
        "top_10_Player_of_match = player_of_macth_df.head(10)\n",
        "player_of_macth_df.head(10)"
      ]
    },
    {
      "cell_type": "code",
      "execution_count": null,
      "metadata": {
        "colab": {
          "base_uri": "https://localhost:8080/",
          "height": 424
        },
        "id": "T3rAitVqMPf9",
        "outputId": "e0ed3c68-6edf-4d76-f0f4-1e0b5b8db635"
      },
      "outputs": [],
      "source": [
        "plt.figure(figsize=(9,4))\n",
        "plt.plot(top_10_Player_of_match['Count'], top_10_Player_of_match['Player_of_Match'], 'o-g')\n",
        "\n",
        "plt.xlabel('Count')\n",
        "plt.ylabel('Player of Match')\n",
        "\n",
        "plt.title('Top 10 Player of Match')"
      ]
    },
    {
      "cell_type": "code",
      "execution_count": null,
      "metadata": {
        "colab": {
          "base_uri": "https://localhost:8080/",
          "height": 363
        },
        "id": "xW7wn-vWMPi5",
        "outputId": "8495202f-21cd-4a85-e745-420533c5aa64"
      },
      "outputs": [],
      "source": [
        "#Top 10 IPL hosted cities\n",
        "citraw = IPL_matches_df['City'].value_counts().reset_index()\n",
        "# Renaming the columns of the DataFrame\n",
        "citraw.columns = ['City', 'Hosted_Number']\n",
        "\n",
        "# Selecting the top 10 cities\n",
        "top10_city_host = citraw.head(10)\n",
        "\n",
        "top10_city_host = citraw.head(10)\n",
        "top10_city_host"
      ]
    },
    {
      "cell_type": "code",
      "execution_count": null,
      "metadata": {
        "colab": {
          "base_uri": "https://localhost:8080/",
          "height": 733
        },
        "id": "rkEJlThyMPmD",
        "outputId": "a1e11909-c79a-4c52-807c-cb25334d3b7e"
      },
      "outputs": [],
      "source": [
        "plt.figure(figsize=(16,8))\n",
        "palette_color = sns.color_palette(\"ch:s=.25,rot=-.25\")\n",
        "sns.barplot(x='Hosted_Number', y='City',palette = palette_color, data=top10_city_host);\n",
        "plt.title('Top 10 IPL hosted cities');"
      ]
    },
    {
      "cell_type": "code",
      "execution_count": null,
      "metadata": {
        "colab": {
          "base_uri": "https://localhost:8080/",
          "height": 519
        },
        "id": "YtSziz_9MPot",
        "outputId": "e850414e-7df4-410e-bbf1-c67bc3c9c10f"
      },
      "outputs": [],
      "source": [
        "#Number of Matches hosted in Seasons\n",
        "IPL_matches_df[\"Season\"]=pd.DatetimeIndex(IPL_matches_df[\"Date\"]).year\n",
        "matches_in_season=IPL_matches_df.groupby(['Season'])['ID'].count().reset_index().rename(columns={'ID':'matches'})\n",
        "matches_in_season"
      ]
    },
    {
      "cell_type": "code",
      "execution_count": null,
      "metadata": {
        "colab": {
          "base_uri": "https://localhost:8080/",
          "height": 518
        },
        "id": "F84SmxhfMPrW",
        "outputId": "5e2f28fc-3581-4782-901c-f44ea8192376"
      },
      "outputs": [],
      "source": [
        "plt.figure(figsize=(12,5))\n",
        "\n",
        "sns.barplot(x='Season', y='matches', data=matches_in_season);\n",
        "plt.title('No of total matches per season')"
      ]
    },
    {
      "cell_type": "code",
      "execution_count": null,
      "metadata": {
        "colab": {
          "base_uri": "https://localhost:8080/",
          "height": 613
        },
        "id": "8JqxQfnaMPv7",
        "outputId": "c200fe30-0f58-446d-b56d-b3dcb95443fd"
      },
      "outputs": [],
      "source": [
        "#Most Time Toss Winning Teams\n",
        "most_toss_winner = IPL_matches_df['TossWinner'].value_counts().reset_index()\n",
        "# Rename the columns of the DataFrame\n",
        "most_toss_winner.columns = ['TossWinner', 'Count']\n",
        "\n",
        "most_toss_winner"
      ]
    },
    {
      "cell_type": "code",
      "execution_count": null,
      "metadata": {
        "colab": {
          "base_uri": "https://localhost:8080/",
          "height": 977
        },
        "id": "pJcJXcanMPyR",
        "outputId": "e20260b6-9f2b-430c-deab-1bb5fa30900c"
      },
      "outputs": [],
      "source": [
        "plt.figure(figsize=(16,12))\n",
        "plt.plot(most_toss_winner['Count'], most_toss_winner['TossWinner'], marker='s', c='r', ls='--', lw=2, ms=10, mew=2, mec='navy')\n",
        "\n",
        "plt.xlabel('Toss Winner')\n",
        "plt.ylabel('Count')\n",
        "\n",
        "plt.title('Most time toss winning teams');"
      ]
    },
    {
      "cell_type": "code",
      "execution_count": null,
      "metadata": {
        "colab": {
          "base_uri": "https://localhost:8080/",
          "height": 578
        },
        "id": "cNS8CjiVMP1I",
        "outputId": "1f965c90-bb7e-451e-d36f-90852569cb02"
      },
      "outputs": [],
      "source": [
        "#Toss Decision in each Season of IPL\n",
        "plt.figure(figsize=(16,6))\n",
        "color_palette = sns.color_palette(\"Spectral\")\n",
        "sns.countplot(x='Season', hue='TossDecision', data=IPL_matches_df,palette=color_palette,saturation=1)\n",
        "plt.title('Toss Decision in each Season of IPL');"
      ]
    },
    {
      "cell_type": "code",
      "execution_count": null,
      "metadata": {
        "colab": {
          "base_uri": "https://localhost:8080/",
          "height": 519
        },
        "id": "pCFeTAewMP4o",
        "outputId": "0354407e-e06a-4ba1-fd3e-b2e92da01af5"
      },
      "outputs": [],
      "source": [
        "#Which Team won greater IPL Trophies?\n",
        "final_df = IPL_matches_df.loc[(IPL_matches_df['MatchNumber']=='Final')][['City','Team1','Team2','WinningTeam']].reset_index().drop(['index'],axis=1)\n",
        "final_df"
      ]
    },
    {
      "cell_type": "code",
      "execution_count": null,
      "metadata": {
        "colab": {
          "base_uri": "https://localhost:8080/",
          "height": 567
        },
        "id": "QoT5--pLidr_",
        "outputId": "2233dba8-c2bc-44a7-ba8b-7cd8f3686b63"
      },
      "outputs": [],
      "source": [
        "import plotly.express as px\n",
        "\n",
        "# Count the number of wins for each team\n",
        "win_counts = final_df['WinningTeam'].value_counts()\n",
        "\n",
        "# Create the pie chart using Plotly Express\n",
        "fig = px.pie(names=win_counts.index, values=win_counts.values,\n",
        "             color=win_counts.index, color_discrete_sequence=pal_vi)\n",
        "\n",
        "# Update trace properties\n",
        "fig.update_traces(textposition='inside', textinfo='percent+label', sort=False)\n",
        "\n",
        "# Update layout properties\n",
        "fig.update_layout(width=1000, height=550)\n",
        "\n",
        "# Show the plot\n",
        "fig.show()\n"
      ]
    },
    {
      "cell_type": "code",
      "execution_count": null,
      "metadata": {
        "colab": {
          "base_uri": "https://localhost:8080/",
          "height": 1000
        },
        "id": "0fCVYEq4iduT",
        "outputId": "ae3d0bcd-d8bf-4145-d643-5dc52a24b128"
      },
      "outputs": [],
      "source": [
        "#Who is the best wicket taker bowler in IPL history?\n",
        "wicket_tacker_bowler=IPL_ball_by_ball_df.groupby('bowler').sum().reset_index()\n",
        "wicket_tacker_bowler = wicket_tacker_bowler.sort_values(by='isWicketDelivery',ascending=False).head(10)\n",
        "wicket_tacker_bowler"
      ]
    },
    {
      "cell_type": "code",
      "execution_count": null,
      "metadata": {
        "colab": {
          "base_uri": "https://localhost:8080/",
          "height": 578
        },
        "id": "q2wZDcpzidxq",
        "outputId": "8166ee9c-be1e-4853-fa3e-dc46f71caa71"
      },
      "outputs": [],
      "source": [
        "plt.figure(figsize=(16,6))\n",
        "plt.plot(wicket_tacker_bowler['bowler'], wicket_tacker_bowler['isWicketDelivery'], marker='o', c='c', ls='-.', lw=2, ms=10, mew=2, mec='navy')\n",
        "\n",
        "plt.xlabel('Bowler')\n",
        "plt.ylabel('Wickets taken')\n",
        "\n",
        "plt.title('Top 10 wickets tackers');"
      ]
    },
    {
      "cell_type": "code",
      "execution_count": null,
      "metadata": {
        "colab": {
          "base_uri": "https://localhost:8080/"
        },
        "id": "_K9LfP6_id0n",
        "outputId": "777c1eb4-55d4-415d-edb9-94ccdf9c17d3"
      },
      "outputs": [],
      "source": [
        "#What is Toss Decision Ratio in IPL?\n",
        "toss_decision_ratio = IPL_matches_df.TossDecision.value_counts()\n",
        "toss_decision_ratio"
      ]
    },
    {
      "cell_type": "code",
      "execution_count": null,
      "metadata": {
        "colab": {
          "base_uri": "https://localhost:8080/",
          "height": 446
        },
        "id": "l7T_h8J3id3u",
        "outputId": "177ffff6-212a-4bbd-f291-51926e600b2e"
      },
      "outputs": [],
      "source": [
        "labels = (np.array(toss_decision_ratio.index))\n",
        "sizes = (np.array((toss_decision_ratio / toss_decision_ratio.sum())*100))\n",
        "colors = ['cyan', 'yellow']\n",
        "plt.pie(sizes, labels=labels, colors=colors,\n",
        "        autopct='%1.1f%%', shadow=True, startangle=90)\n",
        "plt.title(\"Ratio of toss Decision in IPL\",fontweight=\"bold\",fontsize=15)\n",
        "plt.show()"
      ]
    },
    {
      "cell_type": "code",
      "execution_count": null,
      "metadata": {
        "colab": {
          "base_uri": "https://localhost:8080/"
        },
        "id": "Exd4l2OAid7K",
        "outputId": "5961325a-0616-42db-ee66-9947d649131b"
      },
      "outputs": [],
      "source": [
        "#Is win depend on winning toss?\n",
        "toss_vs_matchwin = (IPL_matches_df.TossWinner==IPL_matches_df.WinningTeam).value_counts()\n",
        "toss_vs_matchwin"
      ]
    },
    {
      "cell_type": "code",
      "execution_count": null,
      "metadata": {
        "colab": {
          "base_uri": "https://localhost:8080/",
          "height": 446
        },
        "id": "F7OVhTl_jj-9",
        "outputId": "6d195478-3554-4a9d-ef81-7a61b56cd302"
      },
      "outputs": [],
      "source": [
        "labels = (np.array(toss_vs_matchwin.index))\n",
        "sizes = (np.array((toss_vs_matchwin / toss_vs_matchwin.sum())*100))\n",
        "colors = ['red', 'pink']\n",
        "\n",
        "plt.pie(sizes, labels=labels, colors=colors,\n",
        "        autopct='%1.1f%%', shadow=True, startangle=90)\n",
        "plt.title(\"Toss vs Match win\",fontweight=\"bold\",fontsize=15)\n",
        "plt.show()"
      ]
    },
    {
      "cell_type": "code",
      "execution_count": null,
      "metadata": {
        "colab": {
          "base_uri": "https://localhost:8080/",
          "height": 1000
        },
        "id": "EX4sN94ejlY4",
        "outputId": "68f885c4-df6d-4506-c34e-635d39d05e1b"
      },
      "outputs": [],
      "source": [
        "#Which batsmen have most runs in IPL history?\n",
        "highest_run_batsmans=IPL_ball_by_ball_df.groupby('batter').sum().reset_index()\n",
        "highest_run_batsmans = highest_run_batsmans.sort_values(by='batsman_run',ascending=False).head(10)\n",
        "highest_run_batsmans"
      ]
    },
    {
      "cell_type": "code",
      "execution_count": null,
      "metadata": {
        "colab": {
          "base_uri": "https://localhost:8080/",
          "height": 448
        },
        "id": "SjFoGWwXjlcg",
        "outputId": "f0303467-be53-4fdd-9135-104357415da8"
      },
      "outputs": [],
      "source": [
        "plt.figure(figsize=(12,5))\n",
        "palette_color = sns.color_palette('flare')\n",
        "plt.pie(highest_run_batsmans['batsman_run'],labels=highest_run_batsmans['batter'],colors=palette_color,autopct='%.0f%%')\n",
        "plt.title('BATSMEN WITH MOST RUNS IN IPL HISTORY')\n",
        "plt.show()"
      ]
    },
    {
      "cell_type": "code",
      "execution_count": null,
      "metadata": {
        "id": "pUGfGfpZjlgX"
      },
      "outputs": [],
      "source": []
    },
    {
      "cell_type": "code",
      "execution_count": null,
      "metadata": {
        "id": "GBKqjgbzjlo3"
      },
      "outputs": [],
      "source": []
    },
    {
      "cell_type": "code",
      "execution_count": null,
      "metadata": {
        "id": "i6NrHcM3jltB"
      },
      "outputs": [],
      "source": []
    }
  ],
  "metadata": {
    "colab": {
      "provenance": []
    },
    "kernelspec": {
      "display_name": "Python 3",
      "name": "python3"
    },
    "language_info": {
      "codemirror_mode": {
        "name": "ipython",
        "version": 3
      },
      "file_extension": ".py",
      "mimetype": "text/x-python",
      "name": "python",
      "nbconvert_exporter": "python",
      "pygments_lexer": "ipython3",
      "version": "3.11.3"
    }
  },
  "nbformat": 4,
  "nbformat_minor": 0
}

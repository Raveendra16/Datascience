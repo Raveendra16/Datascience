{
 "cells": [
  {
   "cell_type": "code",
   "execution_count": null,
   "metadata": {},
   "outputs": [],
   "source": [
    "import pandas as p\n",
    "import numpy as n\n",
    "import matplotlib.pyplot as pt\n",
    "import seaborn as s\n",
    "import plotly.express as px\n",
    "%matplotlib inline\n",
    "import warnings\n",
    "warnings.filterwarnings(\"ignore\")\n",
    "match=p.read_csv('E:\\python_files\\IPL_Matches_2008_2022.csv')\n",
    "# match.info()\n",
    "match"
   ]
  },
  {
   "cell_type": "code",
   "execution_count": null,
   "metadata": {},
   "outputs": [],
   "source": [
    "match[\"Margin\"].mean()"
   ]
  },
  {
   "cell_type": "code",
   "execution_count": null,
   "metadata": {},
   "outputs": [],
   "source": [
    "match[\"Margin\"].fillna(\"0\",inplace=True)\n",
    "match[\"City\"].fillna(\"Not Mentioned\",inplace=True)\n",
    "match[\"method\"].fillna(\"Nan\",inplace=True)\n",
    "match[\"Player_of_Match\"].fillna(\"Not Mentioned\",inplace=True)\n",
    "match.isnull().sum()"
   ]
  },
  {
   "cell_type": "code",
   "execution_count": null,
   "metadata": {},
   "outputs": [],
   "source": [
    "data=p.DataFrame(match,columns=[\"Margin\",\"ID\"])\n",
    "data.isnull().sum()\n"
   ]
  },
  {
   "cell_type": "code",
   "execution_count": null,
   "metadata": {},
   "outputs": [],
   "source": [
    "match['Venue']=match['Venue'].str.replace('M.Chinnaswamy Stadium','Narendra Modi Stadium, Ahmedabad')\n",
    "# IPL_matches_df['Team2']=IPL_matches_df['Team2'].str.replace('Kings XI Punjab','Punjab Kings')\n",
    "# IPL_matches_df['WinningTeam']=IPL_matches_df['WinningTeam'].str.replace('Kings XI Punjab','Punjab Kings')\n",
    "match"
   ]
  },
  {
   "cell_type": "code",
   "execution_count": null,
   "metadata": {},
   "outputs": [],
   "source": [
    "match_df =match['Venue'].value_counts().reset_index()\n",
    "match_df = match_df.rename(columns={'index': 'Teams', 0: 'Total_Matches'})\n",
    "match_df"
   ]
  },
  {
   "cell_type": "code",
   "execution_count": null,
   "metadata": {},
   "outputs": [],
   "source": [
    "s.barplot(match_df)"
   ]
  },
  {
   "cell_type": "code",
   "execution_count": null,
   "metadata": {},
   "outputs": [],
   "source": [
    "player=match['Player_of_Match'].value_counts().head()\n",
    "player"
   ]
  },
  {
   "cell_type": "code",
   "execution_count": null,
   "metadata": {},
   "outputs": [],
   "source": [
    "data = p.concat([match['Player_of_Match']]).value_counts().reset_index()\n",
    "Most_award = data.rename(columns={'index': 'Teams', 0: 'Total_Matches'}).head()\n",
    "Most_award\n"
   ]
  },
  {
   "cell_type": "code",
   "execution_count": null,
   "metadata": {},
   "outputs": [],
   "source": [
    "pt.figure(figsize=(10,3))\n",
    "s.set_style('darkgrid')\n",
    "abc={\n",
    "    'family':'serif',\n",
    "    'size':'10'}\n",
    "wi = s.barplot(data=Most_award, x='Player_of_Match', y='count',ci=False, palette='viridis_r' )\n",
    "wi.set_xticklabels(Most_award['Player_of_Match'], rotation=55, fontdict=abc)\n",
    "pt.show()"
   ]
  },
  {
   "cell_type": "code",
   "execution_count": null,
   "metadata": {},
   "outputs": [],
   "source": []
  },
  {
   "cell_type": "code",
   "execution_count": null,
   "metadata": {},
   "outputs": [],
   "source": []
  },
  {
   "cell_type": "code",
   "execution_count": null,
   "metadata": {},
   "outputs": [],
   "source": []
  }
 ],
 "metadata": {
  "kernelspec": {
   "display_name": "Python 3",
   "language": "python",
   "name": "python3"
  },
  "language_info": {
   "codemirror_mode": {
    "name": "ipython",
    "version": 3
   },
   "file_extension": ".py",
   "mimetype": "text/x-python",
   "name": "python",
   "nbconvert_exporter": "python",
   "pygments_lexer": "ipython3",
   "version": "3.11.3"
  }
 },
 "nbformat": 4,
 "nbformat_minor": 2
}
